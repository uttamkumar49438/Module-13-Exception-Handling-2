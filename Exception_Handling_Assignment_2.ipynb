{
  "nbformat": 4,
  "nbformat_minor": 0,
  "metadata": {
    "colab": {
      "provenance": []
    },
    "kernelspec": {
      "name": "python3",
      "display_name": "Python 3"
    },
    "language_info": {
      "name": "python"
    }
  },
  "cells": [
    {
      "cell_type": "markdown",
      "source": [
        "Q1. Explain why we have to use the Exception class while creating a Custom Exception."
      ],
      "metadata": {
        "id": "mYO_R23VlTff"
      }
    },
    {
      "cell_type": "markdown",
      "source": [
        "Exception class as the base class for custom exceptions promotes consistency, compatibility, and clarity in exception handling code, making it easier to understand, maintain, and extend."
      ],
      "metadata": {
        "id": "ipa7XDAYw-P_"
      }
    },
    {
      "cell_type": "markdown",
      "source": [
        "Q2. Write a python program to print Python Exception Hierarchy."
      ],
      "metadata": {
        "id": "HJLq45tUlURS"
      }
    },
    {
      "cell_type": "markdown",
      "source": [
        "Python Exception Hierarchy:\n",
        "Exception\n",
        "  StopIteration\n",
        "  SystemExit\n",
        "  KeyboardInterrupt\n",
        "  GeneratorExit\n",
        "  ArithmeticError\n",
        "    FloatingPointError\n",
        "    OverflowError\n",
        "    ZeroDivisionError\n",
        "  AssertionError\n",
        "  AttributeError"
      ],
      "metadata": {
        "id": "X8XSy1HiwxQA"
      }
    },
    {
      "cell_type": "markdown",
      "source": [
        "Q3. What errors are defined in the ArithmeticError class? Explain any two with an example."
      ],
      "metadata": {
        "id": "3A1Btwg8lYeu"
      }
    },
    {
      "cell_type": "markdown",
      "source": [
        "ArithmeticError class in Python is the base class for arithmetic-related exceptions. It serves as a superclass for specific arithmetic exceptions, each representing different kinds of arithmetic errors.\n",
        "\n",
        "= OverflowError Example\n",
        "\n",
        "x = 2 ** 1000  # 2 raised to the power of 1000\n",
        "print(x)\n",
        "\n",
        "\n",
        "= ZeroDivisonError Example\n",
        "\n",
        "try :\n",
        "    a = 10\n",
        "    10/0\n",
        "except ZeroDivisionError as e :\n",
        "    print(e)"
      ],
      "metadata": {
        "id": "jCWrewdHuR8_"
      }
    },
    {
      "cell_type": "markdown",
      "source": [
        "Q4. Why LookupError class is used? Explain with an example KeyError and IndexError."
      ],
      "metadata": {
        "id": "gjbztRAWlbbK"
      }
    },
    {
      "cell_type": "markdown",
      "source": [
        "The LookupError class in Python serves as the base class for exceptions that occur when a key or index is not found in a mapping or sequence. It is a subclass of the Exception class and is used to handle lookup-related errors in Python.\n",
        "\n",
        "\n",
        "# below is an example of KeyError\n",
        "try :\n",
        "    d = {1: [3,4,5,6] , \"key\" :\"sudh\"}\n",
        "    d[\"key10\"]\n",
        "except KeyError as e :\n",
        "    print(e)\n",
        "\n",
        "# below is an example of IndexError\n",
        "try :\n",
        "    l = [1,2,3,3]\n",
        "    l[10]\n",
        "except IndexError as e :\n",
        "    print(e)"
      ],
      "metadata": {
        "id": "0Qc2Sq4tviUe"
      }
    },
    {
      "cell_type": "markdown",
      "source": [
        "Q5. Explain ImportError. What is ModuleNotFoundError?"
      ],
      "metadata": {
        "id": "y1VgpA4Mlds3"
      }
    },
    {
      "cell_type": "code",
      "source": [
        "# below is an example of ImportError\n",
        "try:\n",
        "  import Uttam\n",
        "except ImportError as e:\n",
        "    print(e)"
      ],
      "metadata": {
        "id": "aLO5ZxXrsBEa"
      },
      "execution_count": null,
      "outputs": []
    },
    {
      "cell_type": "markdown",
      "source": [
        "ModuleNotFoundError is an exception raised by Python when it cannot locate the module specified in an import statement."
      ],
      "metadata": {
        "id": "nprDRZ--vQE7"
      }
    },
    {
      "cell_type": "markdown",
      "source": [
        "Q6. List down some best practices for exception handling in python."
      ],
      "metadata": {
        "id": "o6GqJVzOlges"
      }
    },
    {
      "cell_type": "markdown",
      "source": [
        "mentioned below with various examples\n",
        "\n",
        "try :\n",
        "    a = 10\n",
        "    10/0\n",
        "except ZeroDivisionError as e :\n",
        "    print(e)\n",
        "\n",
        "try :\n",
        "    int(\"sudh\")\n",
        "except (ValueError , TypeError) as e :\n",
        "    print(e)\n",
        "\n",
        "try :\n",
        "    int(\"sudh\")\n",
        "except  :\n",
        "    print(\"this will catch an error\")\n",
        "\n",
        "try :\n",
        "    import sudh\n",
        "except ImportError as e :\n",
        "    print(e)"
      ],
      "metadata": {
        "id": "-1_9Rft3xBHE"
      }
    },
    {
      "cell_type": "code",
      "source": [],
      "metadata": {
        "id": "7x6PYBfgxE9r"
      },
      "execution_count": null,
      "outputs": []
    }
  ]
}